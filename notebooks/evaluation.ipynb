{
 "cells": [
  {
   "cell_type": "markdown",
   "metadata": {},
   "source": [
    "# SAT Solver Evaluation and Comparison\n",
    "\n",
    "This notebook evaluates our SAT solver implementation and compares it against reference solvers."
   ]
  },
  {
   "cell_type": "code",
   "execution_count": null,
   "metadata": {},
   "outputs": [],
   "source": [
    "import sys\n",
    "import os\n",
    "import time\n",
    "import matplotlib.pyplot as plt\n",
    "import numpy as np\n",
    "from pathlib import Path\n",
    "\n",
    "# Add src to path\n",
    "sys.path.insert(0, str(Path('..') / 'src'))\n",
    "sys.path.insert(0, str(Path('..') / 'visualizations'))\n",
    "\n",
    "from dimacs_parser import parse_dimacs, write_dimacs\n",
    "from dpll_solver import DPLLSolver\n",
    "from cdcl_solver import CDCLSolver\n",
    "from benchmark_generator import generate_random_3sat, generate_pigeonhole\n",
    "from visualize import plot_solver_comparison, plot_performance_scatter"
   ]
  },
  {
   "cell_type": "markdown",
   "metadata": {},
   "source": [
    "## 1. Generate Test Instances"
   ]
  },
  {
   "cell_type": "code",
   "execution_count": null,
   "metadata": {},
   "outputs": [],
   "source": [
    "# Create benchmark directory\n",
    "benchmark_dir = Path('..') / 'benchmarks' / 'generated'\n",
    "benchmark_dir.mkdir(parents=True, exist_ok=True)\n",
    "\n",
    "# Generate random 3-SAT instances at phase transition (ratio ~4.3)\n",
    "instances = []\n",
    "for n_vars in [10, 15, 20, 25, 30]:\n",
    "    n_clauses = int(n_vars * 4.3)\n",
    "    clauses = generate_random_3sat(n_vars, n_clauses, seed=42+n_vars)\n",
    "    filename = benchmark_dir / f\"3sat_{n_vars}_{n_clauses}.cnf\"\n",
    "    write_dimacs(str(filename), n_vars, clauses)\n",
    "    instances.append({\n",
    "        'name': f'3SAT-{n_vars}',\n",
    "        'file': str(filename),\n",
    "        'vars': n_vars,\n",
    "        'clauses': n_clauses\n",
    "    })\n",
    "\n",
    "print(f\"Generated {len(instances)} test instances\")"
   ]
  },
  {
   "cell_type": "markdown",
   "metadata": {},
   "source": [
    "## 2. Run DPLL Solver"
   ]
  },
  {
   "cell_type": "code",
   "execution_count": null,
   "metadata": {},
   "outputs": [],
   "source": [
    "dpll_results = []\n",
    "\n",
    "for instance in instances:\n",
    "    print(f\"\\nTesting DPLL on {instance['name']}...\")\n",
    "    num_vars, num_clauses, clauses = parse_dimacs(instance['file'])\n",
    "    \n",
    "    solver = DPLLSolver(num_vars, clauses)\n",
    "    is_sat, assignment, stats = solver.solve()\n",
    "    \n",
    "    result = {\n",
    "        'instance': instance['name'],\n",
    "        'sat': is_sat,\n",
    "        **stats\n",
    "    }\n",
    "    dpll_results.append(result)\n",
    "    \n",
    "    print(f\"  Result: {'SAT' if is_sat else 'UNSAT'}\")\n",
    "    print(f\"  Time: {stats['time']:.4f}s\")\n",
    "    print(f\"  Decisions: {stats['decisions']}, Propagations: {stats['propagations']}\")"
   ]
  },
  {
   "cell_type": "markdown",
   "metadata": {},
   "source": [
    "## 3. Run CDCL Solver"
   ]
  },
  {
   "cell_type": "code",
   "execution_count": null,
   "metadata": {},
   "outputs": [],
   "source": [
    "cdcl_results = []\n",
    "\n",
    "for instance in instances:\n",
    "    print(f\"\\nTesting CDCL on {instance['name']}...\")\n",
    "    num_vars, num_clauses, clauses = parse_dimacs(instance['file'])\n",
    "    \n",
    "    solver = CDCLSolver(num_vars, clauses)\n",
    "    try:\n",
    "        is_sat, assignment, stats = solver.solve(time_limit=10.0)\n",
    "        \n",
    "        result = {\n",
    "            'instance': instance['name'],\n",
    "            'sat': is_sat,\n",
    "            **stats\n",
    "        }\n",
    "        cdcl_results.append(result)\n",
    "        \n",
    "        print(f\"  Result: {'SAT' if is_sat else 'UNSAT' if is_sat is not None else 'TIMEOUT'}\")\n",
    "        print(f\"  Time: {stats['time']:.4f}s\")\n",
    "        if 'conflicts' in stats:\n",
    "            print(f\"  Conflicts: {stats['conflicts']}, Learned: {stats['learned']}\")\n",
    "    except Exception as e:\n",
    "        print(f\"  Error: {e}\")\n",
    "        cdcl_results.append({'instance': instance['name'], 'error': str(e)})"
   ]
  },
  {
   "cell_type": "markdown",
   "metadata": {},
   "source": [
    "## 4. Compare DPLL vs CDCL"
   ]
  },
  {
   "cell_type": "code",
   "execution_count": null,
   "metadata": {},
   "outputs": [],
   "source": [
    "# Create comparison plots\n",
    "fig, axes = plt.subplots(1, 2, figsize=(14, 5))\n",
    "\n",
    "# Time comparison\n",
    "instances_names = [r['instance'] for r in dpll_results]\n",
    "dpll_times = [r['time'] for r in dpll_results]\n",
    "cdcl_times = [r.get('time', 0) for r in cdcl_results]\n",
    "\n",
    "x = np.arange(len(instances_names))\n",
    "width = 0.35\n",
    "\n",
    "axes[0].bar(x - width/2, dpll_times, width, label='DPLL', color='blue', alpha=0.7)\n",
    "axes[0].bar(x + width/2, cdcl_times, width, label='CDCL', color='orange', alpha=0.7)\n",
    "axes[0].set_xlabel('Instance')\n",
    "axes[0].set_ylabel('Time (s)')\n",
    "axes[0].set_title('Solving Time Comparison')\n",
    "axes[0].set_xticks(x)\n",
    "axes[0].set_xticklabels(instances_names, rotation=45)\n",
    "axes[0].legend()\n",
    "axes[0].set_yscale('log')\n",
    "axes[0].grid(axis='y', alpha=0.3)\n",
    "\n",
    "# Decisions comparison\n",
    "dpll_decisions = [r['decisions'] for r in dpll_results]\n",
    "cdcl_decisions = [r.get('decisions', 0) for r in cdcl_results]\n",
    "\n",
    "axes[1].bar(x - width/2, dpll_decisions, width, label='DPLL', color='blue', alpha=0.7)\n",
    "axes[1].bar(x + width/2, cdcl_decisions, width, label='CDCL', color='orange', alpha=0.7)\n",
    "axes[1].set_xlabel('Instance')\n",
    "axes[1].set_ylabel('Decisions')\n",
    "axes[1].set_title('Decision Count Comparison')\n",
    "axes[1].set_xticks(x)\n",
    "axes[1].set_xticklabels(instances_names, rotation=45)\n",
    "axes[1].legend()\n",
    "axes[1].set_yscale('log')\n",
    "axes[1].grid(axis='y', alpha=0.3)\n",
    "\n",
    "plt.tight_layout()\n",
    "plt.savefig('../visualizations/dpll_vs_cdcl.png', dpi=300, bbox_inches='tight')\n",
    "plt.show()\n",
    "\n",
    "print(\"\\nComparison plot saved to visualizations/dpll_vs_cdcl.png\")"
   ]
  },
  {
   "cell_type": "markdown",
   "metadata": {},
   "source": [
    "## 5. CDCL Performance Analysis"
   ]
  },
  {
   "cell_type": "code",
   "execution_count": null,
   "metadata": {},
   "outputs": [],
   "source": [
    "# Analyze CDCL-specific metrics\n",
    "cdcl_with_stats = [r for r in cdcl_results if 'conflicts' in r]\n",
    "\n",
    "if cdcl_with_stats:\n",
    "    fig, axes = plt.subplots(1, 3, figsize=(15, 4))\n",
    "    \n",
    "    instances_with_stats = [r['instance'] for r in cdcl_with_stats]\n",
    "    conflicts = [r['conflicts'] for r in cdcl_with_stats]\n",
    "    learned = [r['learned'] for r in cdcl_with_stats]\n",
    "    restarts = [r['restarts'] for r in cdcl_with_stats]\n",
    "    \n",
    "    axes[0].bar(instances_with_stats, conflicts, color='red', alpha=0.7)\n",
    "    axes[0].set_title('Conflicts')\n",
    "    axes[0].set_xlabel('Instance')\n",
    "    axes[0].tick_params(axis='x', rotation=45)\n",
    "    axes[0].grid(axis='y', alpha=0.3)\n",
    "    \n",
    "    axes[1].bar(instances_with_stats, learned, color='green', alpha=0.7)\n",
    "    axes[1].set_title('Learned Clauses')\n",
    "    axes[1].set_xlabel('Instance')\n",
    "    axes[1].tick_params(axis='x', rotation=45)\n",
    "    axes[1].grid(axis='y', alpha=0.3)\n",
    "    \n",
    "    axes[2].bar(instances_with_stats, restarts, color='purple', alpha=0.7)\n",
    "    axes[2].set_title('Restarts')\n",
    "    axes[2].set_xlabel('Instance')\n",
    "    axes[2].tick_params(axis='x', rotation=45)\n",
    "    axes[2].grid(axis='y', alpha=0.3)\n",
    "    \n",
    "    plt.tight_layout()\n",
    "    plt.savefig('../visualizations/cdcl_analysis.png', dpi=300, bbox_inches='tight')\n",
    "    plt.show()\n",
    "    \n",
    "    print(\"\\nCDCL analysis plot saved to visualizations/cdcl_analysis.png\")"
   ]
  },
  {
   "cell_type": "markdown",
   "metadata": {},
   "source": [
    "## 6. Summary Statistics"
   ]
  },
  {
   "cell_type": "code",
   "execution_count": null,
   "metadata": {},
   "outputs": [],
   "source": [
    "import pandas as pd\n",
    "\n",
    "# Create summary table\n",
    "summary_data = []\n",
    "for i, instance in enumerate(instances_names):\n",
    "    dpll = dpll_results[i]\n",
    "    cdcl = cdcl_results[i] if i < len(cdcl_results) else {}\n",
    "    \n",
    "    summary_data.append({\n",
    "        'Instance': instance,\n",
    "        'DPLL Time (s)': f\"{dpll.get('time', 0):.4f}\",\n",
    "        'CDCL Time (s)': f\"{cdcl.get('time', 0):.4f}\",\n",
    "        'DPLL Decisions': dpll.get('decisions', 0),\n",
    "        'CDCL Decisions': cdcl.get('decisions', 0),\n",
    "        'CDCL Conflicts': cdcl.get('conflicts', 0),\n",
    "        'CDCL Learned': cdcl.get('learned', 0)\n",
    "    })\n",
    "\n",
    "df = pd.DataFrame(summary_data)\n",
    "print(\"\\n\" + \"=\"*80)\n",
    "print(\"SUMMARY STATISTICS\")\n",
    "print(\"=\"*80)\n",
    "print(df.to_string(index=False))\n",
    "print(\"=\"*80)\n",
    "\n",
    "# Save to CSV\n",
    "df.to_csv('../visualizations/results_summary.csv', index=False)\n",
    "print(\"\\nResults saved to visualizations/results_summary.csv\")"
   ]
  },
  {
   "cell_type": "markdown",
   "metadata": {},
   "source": [
    "## 7. Conclusion\n",
    "\n",
    "This notebook demonstrates:\n",
    "\n",
    "1. **DPLL Solver**: Basic backtracking search with unit propagation and pure literal elimination\n",
    "2. **CDCL Solver**: Advanced solver with conflict-driven learning, VSIDS, and restarts\n",
    "3. **Performance Comparison**: CDCL typically performs better on harder instances due to learning\n",
    "\n",
    "### Key Observations:\n",
    "- DPLL is simpler but explores more of the search space\n",
    "- CDCL learns from conflicts and avoids redundant search\n",
    "- CDCL's clause learning and VSIDS heuristic make it more efficient on structured problems\n",
    "\n",
    "### Future Improvements:\n",
    "- Debug and optimize the CDCL conflict analysis\n",
    "- Implement LBD-based clause deletion\n",
    "- Add preprocessing (variable elimination, subsumption)\n",
    "- Compare against MiniSAT and other modern solvers"
   ]
  }
 ],
 "metadata": {
  "kernelspec": {
   "display_name": "Python 3",
   "language": "python",
   "name": "python3"
  },
  "language_info": {
   "codemirror_mode": {
    "name": "ipython",
    "version": 3
   },
   "file_extension": ".py",
   "mimetype": "text/x-python",
   "name": "python",
   "nbconvert_exporter": "python",
   "pygments_lexer": "ipython3",
   "version": "3.8.0"
  }
 },
 "nbformat": 4,
 "nbformat_minor": 4
}
